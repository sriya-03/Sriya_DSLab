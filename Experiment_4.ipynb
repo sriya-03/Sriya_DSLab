{
  "nbformat": 4,
  "nbformat_minor": 0,
  "metadata": {
    "colab": {
      "provenance": [],
      "authorship_tag": "ABX9TyOiiRMzVpj4Cvhd9PA8T/CA"
    },
    "kernelspec": {
      "name": "python3",
      "display_name": "Python 3"
    },
    "language_info": {
      "name": "python"
    }
  },
  "cells": [
    {
      "cell_type": "code",
      "execution_count": null,
      "metadata": {
        "id": "r-ariJT2gSjQ"
      },
      "outputs": [],
      "source": [
        "def selectionSort(l1, length):\n",
        "    \tfor i in range(length):\n",
        "\t\tmin = i\n",
        "\t\tfor j in range(i + 1, length):\n",
        "\t\t\tif l1[j] < l1[min]:\n",
        "\t\t\t\tmin = j\n",
        "\t\tl1[i], l1[min] = l1[min], l1[i]\n",
        "l1 = [2, 45, 0, 11, 9,88,97,3,7]\n",
        "length = len(l1)\n",
        "selectionSort(l1,length)\n",
        "print(\"Sorted:\",l1)"
      ]
    }
  ]
}