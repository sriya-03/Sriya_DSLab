{
  "nbformat": 4,
  "nbformat_minor": 0,
  "metadata": {
    "colab": {
      "provenance": [],
      "authorship_tag": "ABX9TyNMf7ydIHf4HU3rNUtL9ybv",
      "include_colab_link": true
    },
    "kernelspec": {
      "name": "python3",
      "display_name": "Python 3"
    },
    "language_info": {
      "name": "python"
    }
  },
  "cells": [
    {
      "cell_type": "markdown",
      "metadata": {
        "id": "view-in-github",
        "colab_type": "text"
      },
      "source": [
        "<a href=\"https://colab.research.google.com/github/sriya-03/Sriya_DSLab/blob/main/Experiments_1_to_7.ipynb\" target=\"_parent\"><img src=\"https://colab.research.google.com/assets/colab-badge.svg\" alt=\"Open In Colab\"/></a>"
      ]
    },
    {
      "cell_type": "code",
      "execution_count": null,
      "metadata": {
        "colab": {
          "base_uri": "https://localhost:8080/"
        },
        "id": "JONl8A9jEbwM",
        "outputId": "9f26b2f2-1174-4be2-feb7-67c8aa129a43"
      },
      "outputs": [
        {
          "output_type": "stream",
          "name": "stdout",
          "text": [
            "Enter a number:10\n",
            "Element Found\n"
          ]
        }
      ],
      "source": [
        "#Linear Search\n",
        "myList=[10,35,42,51,62]\n",
        "pivot=int(input(\"Enter a number:\"))\n",
        "for i in myList:\n",
        "  if pivot==i:\n",
        "    flag=1\n",
        "    break\n",
        "  else:\n",
        "    flag=0\n",
        "if flag==1:\n",
        "  print(\"Element Found\")\n",
        "else:\n",
        "  print(\"Element Not Found\")"
      ]
    },
    {
      "cell_type": "code",
      "source": [
        "#Binary Search\n",
        "def binarySearch(array, x, low, high):\n",
        "    while low <= high:\n",
        "        mid = low + (high - low)//2\n",
        "        if array[mid] == x:\n",
        "            return mid\n",
        "        elif array[mid] < x:\n",
        "            low = mid + 1\n",
        "        else:\n",
        "            high = mid - 1\n",
        "    return -1\n",
        "array = [3, 4, 5, 6, 7, 8, 9]\n",
        "x = 4\n",
        "result = binarySearch(array, x, 0, len(array)-1)\n",
        "if result != -1:\n",
        "    print(\"Element is present at index\" + str(result))\n",
        "else:\n",
        "    print(\"Not found\")"
      ],
      "metadata": {
        "colab": {
          "base_uri": "https://localhost:8080/"
        },
        "id": "RS7Lt8p_PX5N",
        "outputId": "7f787fd2-f4a0-4a6a-a41f-a85a51a55875"
      },
      "execution_count": null,
      "outputs": [
        {
          "output_type": "stream",
          "name": "stdout",
          "text": [
            "Element is present at index1\n"
          ]
        }
      ]
    },
    {
      "cell_type": "code",
      "source": [
        "#Insertion Sort\n",
        "def insertionSort(array):\n",
        "    for step in range(1, len(array)):\n",
        "        key = array[step]\n",
        "        j = step - 1\n",
        "        while j >= 0 and key < array[j]:\n",
        "            array[j + 1] = array[j]\n",
        "            j = j - 1\n",
        "        array[j + 1] = key\n",
        "data = [55,43,-22,0,300,1]\n",
        "insertionSort(data)\n",
        "print('Sorted Array in Ascending Order:')\n",
        "print(data)"
      ],
      "metadata": {
        "id": "UdmDne6xJxz9",
        "colab": {
          "base_uri": "https://localhost:8080/"
        },
        "outputId": "9d020b8b-f1ae-4291-8914-a7b4de2579aa"
      },
      "execution_count": null,
      "outputs": [
        {
          "output_type": "stream",
          "name": "stdout",
          "text": [
            "Sorted Array in Ascending Order:\n",
            "[-22, 0, 1, 43, 55, 300]\n"
          ]
        }
      ]
    },
    {
      "cell_type": "code",
      "source": [
        "#Selection Sort\n",
        "def sort(nums):\n",
        "  for i in range(5):\n",
        "    minpos=i\n",
        "    for j in range(i,6):\n",
        "      if nums[j]<nums[minpos]:\n",
        "        minpos=j\n",
        "    temp=nums[i]\n",
        "    nums[i]=nums[minpos]\n",
        "    nums[minpos]=temp\n",
        "    print(nums)\n",
        "nums=[100,-1,5,78,4,2]\n",
        "sort(nums)\n",
        "print(nums)"
      ],
      "metadata": {
        "colab": {
          "base_uri": "https://localhost:8080/"
        },
        "id": "JbhlU-RWL9uq",
        "outputId": "2f0367e9-616f-441c-86a8-e84aeb91b0a3"
      },
      "execution_count": null,
      "outputs": [
        {
          "output_type": "stream",
          "name": "stdout",
          "text": [
            "[-1, 100, 5, 78, 4, 2]\n",
            "[-1, 2, 5, 78, 4, 100]\n",
            "[-1, 2, 4, 78, 5, 100]\n",
            "[-1, 2, 4, 5, 78, 100]\n",
            "[-1, 2, 4, 5, 78, 100]\n",
            "[-1, 2, 4, 5, 78, 100]\n"
          ]
        }
      ]
    },
    {
      "cell_type": "code",
      "source": [
        "#Bubble Sort\n",
        "def bubblesort(array):\n",
        "  for i in range(len(array)):\n",
        "    for j in range(0,len(array)-1-1):\n",
        "      if array[j]>array[j+1]:\n",
        "        array[j],array[j+1]=array[j+1],array[j]\n",
        "data=[-1,7,10,0,8,70]\n",
        "bubblesort(data)\n",
        "print(data)"
      ],
      "metadata": {
        "colab": {
          "base_uri": "https://localhost:8080/"
        },
        "id": "qq1E7i5uMypY",
        "outputId": "b3e14372-b809-44cf-930f-317c88520aee"
      },
      "execution_count": null,
      "outputs": [
        {
          "output_type": "stream",
          "name": "stdout",
          "text": [
            "[-1, 0, 7, 8, 10, 70]\n"
          ]
        }
      ]
    },
    {
      "cell_type": "code",
      "source": [
        "#Merge Sort\n",
        "def merge_sort(arr):\n",
        "    if len(arr)>1:\n",
        "        left_arr=arr[:len(arr)//2]\n",
        "        right_arr=arr[len(arr)//2:]\n",
        "        merge_sort(left_arr) \n",
        "        merge_sort(right_arr)\n",
        "\n",
        "        i=0\n",
        "        j=0\n",
        "        k=0\n",
        "        while i<len(left_arr) and j<len(right_arr):\n",
        "            if left_arr[i]<=right_arr[j]:\n",
        "                arr[k] = left_arr[i]\n",
        "                i+=1\n",
        "            else:\n",
        "                arr[k]=right_arr[j]\n",
        "                j+=1\n",
        "            k+=1\n",
        "        while i<len(left_arr):\n",
        "            arr[k] = left_arr[i]\n",
        "            i+=1\n",
        "            k+=1\n",
        "        while j<len(right_arr):\n",
        "            arr[k]=right_arr[j]\n",
        "            j+=1\n",
        "            k+=1\n",
        "arr = [3,5,4,7,6,1,2,0]\n",
        "merge_sort(arr)\n",
        "print(arr)\n"
      ],
      "metadata": {
        "id": "KZYVmaFqSqV5",
        "colab": {
          "base_uri": "https://localhost:8080/"
        },
        "outputId": "2aa0ea00-76cf-404c-a36c-25a09a4dc6ba"
      },
      "execution_count": null,
      "outputs": [
        {
          "output_type": "stream",
          "name": "stdout",
          "text": [
            "[0, 1, 2, 3, 4, 5, 6, 7]\n"
          ]
        }
      ]
    },
    {
      "cell_type": "code",
      "source": [
        "#Quick Sort\n",
        "def partition(array, low, high):\n",
        "  pivot = array[high]\n",
        "  i = low - 1\n",
        "  for j in range(low, high):\n",
        "    if array[j] <= pivot:\n",
        "      i = i + 1\n",
        "      (array[i], array[j]) = (array[j], array[i])\n",
        "  (array[i + 1], array[high]) = (array[high], array[i + 1])\n",
        "  return i + 1\n",
        "def quickSort(array, low, high):\n",
        "  if low < high:\n",
        "    pi = partition(array, low, high)\n",
        "    quickSort(array, low, pi - 1)\n",
        "    quickSort(array, pi + 1, high)\n",
        "data = [8, 7, 2, 1, 0, 9, 6]\n",
        "print(\"Unsorted Array\")\n",
        "print(data)\n",
        "size = len(data)\n",
        "quickSort(data, 0, size - 1)\n",
        "print('Sorted Array in Ascending Order:')\n",
        "print(data)\n"
      ],
      "metadata": {
        "colab": {
          "base_uri": "https://localhost:8080/"
        },
        "id": "ej7wSHSthf29",
        "outputId": "3dd88752-bec6-467e-e946-a9bb16295efb"
      },
      "execution_count": null,
      "outputs": [
        {
          "output_type": "stream",
          "name": "stdout",
          "text": [
            "Unsorted Array\n",
            "[8, 7, 2, 1, 0, 9, 6]\n",
            "Sorted Array in Ascending Order:\n",
            "[0, 1, 2, 6, 7, 8, 9]\n"
          ]
        }
      ]
    }
  ]
}