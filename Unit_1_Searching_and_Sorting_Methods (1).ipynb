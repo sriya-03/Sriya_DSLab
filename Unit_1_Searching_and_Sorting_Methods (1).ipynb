{
  "nbformat": 4,
  "nbformat_minor": 0,
  "metadata": {
    "colab": {
      "provenance": [],
      "collapsed_sections": []
    },
    "kernelspec": {
      "name": "python3",
      "display_name": "Python 3"
    },
    "language_info": {
      "name": "python"
    }
  },
  "cells": [
    {
      "cell_type": "code",
      "execution_count": null,
      "metadata": {
        "colab": {
          "base_uri": "https://localhost:8080/"
        },
        "id": "JONl8A9jEbwM",
        "outputId": "9f26b2f2-1174-4be2-feb7-67c8aa129a43"
      },
      "outputs": [
        {
          "output_type": "stream",
          "name": "stdout",
          "text": [
            "Enter a number:10\n",
            "Element Found\n"
          ]
        }
      ],
      "source": [
        "#Linear Search\n",
        "myList=[10,35,42,51,62]\n",
        "pivot=int(input(\"Enter a number:\"))\n",
        "for i in myList:\n",
        "  if pivot==i:\n",
        "    flag=1\n",
        "    break\n",
        "  else:\n",
        "    flag=0\n",
        "if flag==1:\n",
        "  print(\"Element Found\")\n",
        "else:\n",
        "  print(\"Element Not Found\")"
      ]
    },
    {
      "cell_type": "code",
      "source": [
        "#Binary Search\n",
        "def binarySearch(array, x, low, high):\n",
        "\n",
        "    while low <= high:\n",
        "\n",
        "        mid = low + (high - low)//2\n",
        "\n",
        "        if array[mid] == x:\n",
        "            return mid\n",
        "\n",
        "        elif array[mid] < x:\n",
        "            low = mid + 1\n",
        "\n",
        "        else:\n",
        "            high = mid - 1\n",
        "\n",
        "    return -1\n",
        "\n",
        "\n",
        "array = [3, 4, 5, 6, 7, 8, 9]\n",
        "x = 4\n",
        "\n",
        "result = binarySearch(array, x, 0, len(array)-1)\n",
        "\n",
        "if result != -1:\n",
        "    print(\"Element is present at index \" + str(result))\n",
        "else:\n",
        "    print(\"Not found\")"
      ],
      "metadata": {
        "colab": {
          "base_uri": "https://localhost:8080/"
        },
        "id": "RS7Lt8p_PX5N",
        "outputId": "2acfbb5d-3a9d-4646-8ea5-64f4f42a0d85"
      },
      "execution_count": null,
      "outputs": [
        {
          "output_type": "stream",
          "name": "stdout",
          "text": [
            "Element is present at index 1\n"
          ]
        }
      ]
    },
    {
      "cell_type": "code",
      "source": [
        "#Insertion Sort\n",
        "def insertionSort(array):\n",
        "\n",
        "    for step in range(1, len(array)):\n",
        "        key = array[step]\n",
        "        j = step - 1\n",
        "        \n",
        "        \n",
        "        while j >= 0 and key < array[j]:\n",
        "            array[j + 1] = array[j]\n",
        "            j = j - 1\n",
        "      \n",
        "        array[j + 1] = key\n",
        "\n",
        "\n",
        "data = [55,43,-22,0,300,1]\n",
        "insertionSort(data)\n",
        "print('Sorted Array in Ascending Order:')\n",
        "print(data)"
      ],
      "metadata": {
        "id": "UdmDne6xJxz9",
        "colab": {
          "base_uri": "https://localhost:8080/"
        },
        "outputId": "574a04af-d7d7-4768-e249-8618c8603928"
      },
      "execution_count": null,
      "outputs": [
        {
          "output_type": "stream",
          "name": "stdout",
          "text": [
            "Sorted Array in Ascending Order:\n",
            "[-22, 0, 1, 43, 55, 300]\n"
          ]
        }
      ]
    },
    {
      "cell_type": "code",
      "source": [
        "#Selection Sort\n",
        "def sort(nums):\n",
        "  for i in range(5):\n",
        "    minpos=i\n",
        "    for j in range(i,6):\n",
        "      if nums[j]<nums[minpos]:\n",
        "        minpos=j\n",
        "    temp=nums[i]\n",
        "    nums[i]=nums[minpos]\n",
        "    nums[minpos]=temp\n",
        "\n",
        "\n",
        "    print(nums)\n",
        "nums=[100,-1,5,78,4,2]\n",
        "sort(nums)\n",
        "\n",
        "print(nums)"
      ],
      "metadata": {
        "colab": {
          "base_uri": "https://localhost:8080/"
        },
        "id": "JbhlU-RWL9uq",
        "outputId": "77bb6519-bee7-4f55-f55f-2a6af7031176"
      },
      "execution_count": null,
      "outputs": [
        {
          "output_type": "stream",
          "name": "stdout",
          "text": [
            "[-1, 100, 5, 78, 4, 2]\n",
            "[-1, 2, 5, 78, 4, 100]\n",
            "[-1, 2, 4, 78, 5, 100]\n",
            "[-1, 2, 4, 5, 78, 100]\n",
            "[-1, 2, 4, 5, 78, 100]\n",
            "[-1, 2, 4, 5, 78, 100]\n"
          ]
        }
      ]
    },
    {
      "cell_type": "code",
      "source": [
        "#Bubble Sort\n",
        "def bubblesort(array):\n",
        "  for i in range(len(array)):\n",
        "    for j in range(0,len(array)-1-1):\n",
        "      if array[j]>array[j+1]:\n",
        "        array[j],array[j+1]=array[j+1],array[j]\n",
        "data=[-1,7,10,0,8,70]\n",
        "bubblesort(data)\n",
        "print(data)"
      ],
      "metadata": {
        "colab": {
          "base_uri": "https://localhost:8080/"
        },
        "id": "qq1E7i5uMypY",
        "outputId": "b3e14372-b809-44cf-930f-317c88520aee"
      },
      "execution_count": null,
      "outputs": [
        {
          "output_type": "stream",
          "name": "stdout",
          "text": [
            "[-1, 0, 7, 8, 10, 70]\n"
          ]
        }
      ]
    },
    {
      "cell_type": "code",
      "source": [
        "#Merge Sort\n",
        "def merge_sort(arr):\n",
        "    if len(arr)>1:\n",
        "        left_arr=arr[:len(arr)//2]\n",
        "        right_arr=arr[len(arr)//2:]\n",
        "        merge_sort(left_arr) \n",
        "        merge_sort(right_arr)\n",
        "\n",
        "        #Merging\n",
        "        i=0#left most element in left array\n",
        "        j=0#left most element in right array\n",
        "        k=0\n",
        "        while i<len(left_arr) and j<len(right_arr):\n",
        "            if left_arr[i]<=right_arr[j]:\n",
        "                arr[k] = left_arr[i]\n",
        "                i+=1\n",
        "            else:\n",
        "                arr[k]=right_arr[j]\n",
        "                j+=1\n",
        "            k+=1\n",
        "        while i<len(left_arr):\n",
        "            arr[k] = left_arr[i]\n",
        "            i+=1\n",
        "            k+=1\n",
        "        while j<len(right_arr):\n",
        "            arr[k]=right_arr[j]\n",
        "            j+=1\n",
        "            k+=1\n",
        "\n",
        "arr = [3,5,4,7,6,1,2,0]\n",
        "merge_sort(arr)\n",
        "print(arr)\n"
      ],
      "metadata": {
        "id": "KZYVmaFqSqV5",
        "colab": {
          "base_uri": "https://localhost:8080/"
        },
        "outputId": "77736ec4-bf73-411e-9f4c-74779e1269ae"
      },
      "execution_count": 1,
      "outputs": [
        {
          "output_type": "stream",
          "name": "stdout",
          "text": [
            "[0, 1, 2, 3, 4, 5, 6, 7]\n"
          ]
        }
      ]
    },
    {
      "cell_type": "code",
      "source": [
        "#Quick Sort\n",
        "def partition(array, low, high):\n",
        "  pivot = array[high]\n",
        "  i = low - 1\n",
        "  for j in range(low, high):\n",
        "    if array[j] <= pivot:\n",
        "      i = i + 1\n",
        "      (array[i], array[j]) = (array[j], array[i])\n",
        "  (array[i + 1], array[high]) = (array[high], array[i + 1])\n",
        "  return i + 1\n",
        "def quickSort(array, low, high):\n",
        "  if low < high:\n",
        "    pi = partition(array, low, high)\n",
        "    quickSort(array, low, pi - 1)\n",
        "    quickSort(array, pi + 1, high)\n",
        "data = [8, 7, 2, 1, 0, 9, 6]\n",
        "print(\"Unsorted Array\")\n",
        "print(data)\n",
        "size = len(data)\n",
        "quickSort(data, 0, size - 1)\n",
        "print('Sorted Array in Ascending Order:')\n",
        "print(data)\n"
      ],
      "metadata": {
        "colab": {
          "base_uri": "https://localhost:8080/"
        },
        "id": "ej7wSHSthf29",
        "outputId": "3dd88752-bec6-467e-e946-a9bb16295efb"
      },
      "execution_count": 2,
      "outputs": [
        {
          "output_type": "stream",
          "name": "stdout",
          "text": [
            "Unsorted Array\n",
            "[8, 7, 2, 1, 0, 9, 6]\n",
            "Sorted Array in Ascending Order:\n",
            "[0, 1, 2, 6, 7, 8, 9]\n"
          ]
        }
      ]
    }
  ]
}