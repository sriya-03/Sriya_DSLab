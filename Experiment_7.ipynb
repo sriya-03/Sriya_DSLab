{
  "nbformat": 4,
  "nbformat_minor": 0,
  "metadata": {
    "colab": {
      "provenance": [],
      "authorship_tag": "ABX9TyNBklzIwmw7eEAAGESdbgBz"
    },
    "kernelspec": {
      "name": "python3",
      "display_name": "Python 3"
    },
    "language_info": {
      "name": "python"
    }
  },
  "cells": [
    {
      "cell_type": "code",
      "execution_count": null,
      "metadata": {
        "id": "MbGTHyBbgJQB"
      },
      "outputs": [],
      "source": [
        "def merge(list):\n",
        "    if len(list)>1:\n",
        "        mid=len(list)//2\n",
        "        left=list[:mid]\n",
        "        right=list[mid:]\n",
        "        merge(left)\n",
        "        merge(right)\n",
        "        i=0\n",
        "        j=0\n",
        "        k=0\n",
        "        while i<len(left) and j<len(right):\n",
        "            if left[i]<=right[j]:\n",
        "                list[k]=left[i]\n",
        "                i=i+1\n",
        "            else:\n",
        "                list[k]=right[j]\n",
        "                j=j+1\n",
        "            k=k+1\n",
        "        while i<len(left):\n",
        "            list[k]=left[i]\n",
        "            i=i+1\n",
        "            k=k+1\n",
        "        while j<len(right):\n",
        "            list[k]=right[j]\n",
        "            j=j+1\n",
        "            k=k+1\n",
        "\n",
        "list=[12,52,54,98,7,87]\n",
        "print(\"before sorting:\",list)\n",
        "merge(list)\n",
        "print(\"After sorting \",list)"
      ]
    }
  ]
}