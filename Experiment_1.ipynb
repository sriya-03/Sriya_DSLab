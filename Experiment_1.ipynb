{
  "nbformat": 4,
  "nbformat_minor": 0,
  "metadata": {
    "colab": {
      "provenance": [],
      "authorship_tag": "ABX9TyPu/lGFERFDLs8KlPLz78E2"
    },
    "kernelspec": {
      "name": "python3",
      "display_name": "Python 3"
    },
    "language_info": {
      "name": "python"
    }
  },
  "cells": [
    {
      "cell_type": "code",
      "execution_count": null,
      "metadata": {
        "id": "4B6u-JmVfDzX"
      },
      "outputs": [],
      "source": [
        "#Linear Search\n",
        "myList=[10,35,42,51,62]\n",
        "pivot=int(input(\"Enter a number:\"))\n",
        "for i in myList:\n",
        "  if pivot==i:\n",
        "    flag=1\n",
        "    break\n",
        "  else:\n",
        "    flag=0\n",
        "if flag==1:\n",
        "  print(\"Element Found\")\n",
        "else:\n",
        "  print(\"Element Not Found\")"
      ]
    }
  ]
}