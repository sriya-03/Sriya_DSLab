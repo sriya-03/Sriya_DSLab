{
  "nbformat": 4,
  "nbformat_minor": 0,
  "metadata": {
    "colab": {
      "provenance": [],
      "authorship_tag": "ABX9TyOfD8kBqdSzDqWHUpoxhRsY",
      "include_colab_link": true
    },
    "kernelspec": {
      "name": "python3",
      "display_name": "Python 3"
    },
    "language_info": {
      "name": "python"
    }
  },
  "cells": [
    {
      "cell_type": "markdown",
      "metadata": {
        "id": "view-in-github",
        "colab_type": "text"
      },
      "source": [
        "<a href=\"https://colab.research.google.com/github/sriya-03/Sriya_DSLab/blob/main/Weather_Forecasting_w_File_Import.ipynb\" target=\"_parent\"><img src=\"https://colab.research.google.com/assets/colab-badge.svg\" alt=\"Open In Colab\"/></a>"
      ]
    },
    {
      "cell_type": "markdown",
      "source": [],
      "metadata": {
        "id": "SSb9b7lQqrv-"
      }
    },
    {
      "cell_type": "code",
      "source": [],
      "metadata": {
        "id": "QmeLZ-aaqxEv"
      },
      "execution_count": null,
      "outputs": []
    },
    {
      "cell_type": "code",
      "execution_count": 7,
      "metadata": {
        "colab": {
          "base_uri": "https://localhost:8080/"
        },
        "id": "rxybquWN6YSR",
        "outputId": "cd996555-1120-4989-81b0-b2f0c295f012"
      },
      "outputs": [
        {
          "output_type": "stream",
          "name": "stdout",
          "text": [
            "weather prediction is\n",
            "enter temperature:20\n",
            "enter humidity:30\n",
            "enter wind speed:50\n",
            "prediction: rainy\n",
            "Today's weather forecast is:\n",
            " 184.0\n"
          ]
        }
      ],
      "source": [
        "# Weather Prediction\n",
        "print(\"weather prediction is\")\n",
        "T=int(input(\"enter temperature:\"))\n",
        "H=int(input(\"enter humidity:\"))\n",
        "wind=int(input(\"enter wind speed:\"))\n",
        "W=0.5*(T*T)-0.2*(H)+(0.1*wind)-15\n",
        "if W>300:\n",
        "    print(\"prediction:sunny\")\n",
        "elif W<=300 and W>200:\n",
        "    print(\"prediction:cloudy\")\n",
        "elif W<=200 and W>100:\n",
        "    print(\"prediction: rainy\")\n",
        "elif W<=100:\n",
        "    print(\"prediction;stormy\")\n",
        "in1=\"Weather.txt\"\n",
        "f=open(in1,\"r\")\n",
        "print(f.read(),W)"
      ]
    }
  ]
}