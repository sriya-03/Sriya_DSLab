{
  "nbformat": 4,
  "nbformat_minor": 0,
  "metadata": {
    "colab": {
      "provenance": [],
      "authorship_tag": "ABX9TyMbxjLp28INkOXkMcMBqbw/"
    },
    "kernelspec": {
      "name": "python3",
      "display_name": "Python 3"
    },
    "language_info": {
      "name": "python"
    }
  },
  "cells": [
    {
      "cell_type": "code",
      "execution_count": null,
      "metadata": {
        "id": "QZzR7twvfrZo"
      },
      "outputs": [],
      "source": [
        "#Bubble Sort\n",
        "def bubblesort(array):\n",
        "  for i in range(len(array)):\n",
        "    for j in range(0,len(array)-1-1):\n",
        "      if array[j]>array[j+1]:\n",
        "        array[j],array[j+1]=array[j+1],array[j]\n",
        "data=[-1,7,10,0,8,70]\n",
        "bubblesort(data)\n",
        "print(data)"
      ]
    }
  ]
}