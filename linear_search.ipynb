{
  "nbformat": 4,
  "nbformat_minor": 0,
  "metadata": {
    "colab": {
      "provenance": [],
      "collapsed_sections": [],
      "toc_visible": true
    },
    "kernelspec": {
      "name": "python3",
      "display_name": "Python 3"
    },
    "language_info": {
      "name": "python"
    }
  },
  "cells": [
    {
      "cell_type": "code",
      "execution_count": 7,
      "metadata": {
        "colab": {
          "base_uri": "https://localhost:8080/"
        },
        "id": "s4oSpb3nCEvi",
        "outputId": "592f7bc9-7c18-4050-f775-d4d8d3925b79"
      },
      "outputs": [
        {
          "output_type": "stream",
          "name": "stdout",
          "text": [
            "Enter a number:12\n",
            "Element Not Found\n"
          ]
        }
      ],
      "source": [
        "myList=[10, 35, 42, 51, 62]\n",
        "\n",
        "pivot = int(input(\"Enter a number:\"))\n",
        "\n",
        "\n",
        "for i in myList:\n",
        "  if pivot==i:\n",
        "    flag = 1\n",
        "    break\n",
        "  else:\n",
        "    flag = 0\n",
        "\n",
        "if flag == 1:\n",
        "  print(\"Element Found\")\n",
        "else:\n",
        "  print(\"Element Not Found\")"
      ]
    }
  ]
}