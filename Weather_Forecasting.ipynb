{
  "nbformat": 4,
  "nbformat_minor": 0,
  "metadata": {
    "colab": {
      "provenance": [],
      "authorship_tag": "ABX9TyPjxDXJ+aZBlvNTKN1iXzrd",
      "include_colab_link": true
    },
    "kernelspec": {
      "name": "python3",
      "display_name": "Python 3"
    },
    "language_info": {
      "name": "python"
    }
  },
  "cells": [
    {
      "cell_type": "markdown",
      "metadata": {
        "id": "view-in-github",
        "colab_type": "text"
      },
      "source": [
        "<a href=\"https://colab.research.google.com/github/sriya-03/Sriya_DSLab/blob/main/Weather_Forecasting.ipynb\" target=\"_parent\"><img src=\"https://colab.research.google.com/assets/colab-badge.svg\" alt=\"Open In Colab\"/></a>"
      ]
    },
    {
      "cell_type": "code",
      "execution_count": 1,
      "metadata": {
        "colab": {
          "base_uri": "https://localhost:8080/"
        },
        "id": "rxybquWN6YSR",
        "outputId": "0d4afa6a-0eb6-4ed4-c36c-939bb9de526b"
      },
      "outputs": [
        {
          "output_type": "stream",
          "name": "stdout",
          "text": [
            "weather prediction is\n",
            "enter temperature:28\n",
            "enter humidity:65\n",
            "enter wind speed:20\n",
            "prediction:sunny\n",
            "366.0\n"
          ]
        }
      ],
      "source": [
        "# Weather Prediction\n",
        "print(\"weather prediction is\")\n",
        "T=int(input(\"enter temperature:\"))\n",
        "H=int(input(\"enter humidity:\"))\n",
        "wind=int(input(\"enter wind speed:\"))\n",
        "W=0.5*(T*T)-0.2*(H)+(0.1*wind)-15\n",
        "if W>300:\n",
        "    print(\"prediction:sunny\")\n",
        "elif W<=300 and W>200:\n",
        "    print(\"prediction:cloudy\")\n",
        "elif W<=200 and W>100:\n",
        "    print(\"prediction: rainy\")\n",
        "elif W<=100:\n",
        "    print(\"prediction;stormy\")\n",
        "print(W)"
      ]
    }
  ]
}