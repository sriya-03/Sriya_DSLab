{
  "nbformat": 4,
  "nbformat_minor": 0,
  "metadata": {
    "colab": {
      "provenance": []
    },
    "kernelspec": {
      "name": "python3",
      "display_name": "Python 3"
    },
    "language_info": {
      "name": "python"
    }
  },
  "cells": [
    {
      "cell_type": "code",
      "execution_count": 2,
      "metadata": {
        "colab": {
          "base_uri": "https://localhost:8080/"
        },
        "id": "JONl8A9jEbwM",
        "outputId": "9f26b2f2-1174-4be2-feb7-67c8aa129a43"
      },
      "outputs": [
        {
          "output_type": "stream",
          "name": "stdout",
          "text": [
            "Enter a number:10\n",
            "Element Found\n"
          ]
        }
      ],
      "source": [
        "myList=[10,35,42,51,62]\n",
        "pivot=int(input(\"Enter a number:\"))\n",
        "for i in myList:\n",
        "  if pivot==i:\n",
        "    flag=1\n",
        "    break\n",
        "  else:\n",
        "    flag=0\n",
        "if flag==1:\n",
        "  print(\"Element Found\")\n",
        "else:\n",
        "  print(\"Element Not Found\")"
      ]
    },
    {
      "cell_type": "code",
      "source": [
        "def binarysearch(itemlist,item):\n",
        "  first = 0\n",
        "  last = len(itemlist)-1\n",
        "  found = False\n",
        "  while( first<=last and not found):\n",
        "    mid = (first + last)//2\n",
        "    if itemlist[mid] == item:\n",
        "      found = True\n",
        "    else:\n",
        "      if item < itemlist[mid]:\n",
        "        last = mid - 1\n",
        "      else:\n",
        "        first = mid + 1\n",
        "  return found\n",
        "\n",
        "print(binarysearch([5,10,15,20], 12))\n",
        "print(binarysearch([5,10,15,20], 5))"
      ],
      "metadata": {
        "colab": {
          "base_uri": "https://localhost:8080/"
        },
        "id": "u5u0wRm2Ls4q",
        "outputId": "8db12a8a-bfea-407e-9601-8d1b878b8030"
      },
      "execution_count": 15,
      "outputs": [
        {
          "output_type": "stream",
          "name": "stdout",
          "text": [
            "False\n",
            "True\n"
          ]
        }
      ]
    },
    {
      "cell_type": "code",
      "source": [
        "def binarySearch(array, x, low, high):\n",
        "\n",
        "    while low <= high:\n",
        "\n",
        "        mid = low + (high - low)//2\n",
        "\n",
        "        if array[mid] == x:\n",
        "            return mid\n",
        "\n",
        "        elif array[mid] < x:\n",
        "            low = mid + 1\n",
        "\n",
        "        else:\n",
        "            high = mid - 1\n",
        "\n",
        "    return -1\n",
        "\n",
        "\n",
        "array = [3, 4, 5, 6, 7, 8, 9]\n",
        "x = 4\n",
        "\n",
        "result = binarySearch(array, x, 0, len(array)-1)\n",
        "\n",
        "if result != -1:\n",
        "    print(\"Element is present at index \" + str(result))\n",
        "else:\n",
        "    print(\"Not found\")"
      ],
      "metadata": {
        "colab": {
          "base_uri": "https://localhost:8080/"
        },
        "id": "RS7Lt8p_PX5N",
        "outputId": "2acfbb5d-3a9d-4646-8ea5-64f4f42a0d85"
      },
      "execution_count": 18,
      "outputs": [
        {
          "output_type": "stream",
          "name": "stdout",
          "text": [
            "Element is present at index 1\n"
          ]
        }
      ]
    }
  ]
}