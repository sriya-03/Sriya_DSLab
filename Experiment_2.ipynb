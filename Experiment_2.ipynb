{
  "nbformat": 4,
  "nbformat_minor": 0,
  "metadata": {
    "colab": {
      "provenance": [],
      "authorship_tag": "ABX9TyPWIuacZZ4N1JI/E30b6qjN"
    },
    "kernelspec": {
      "name": "python3",
      "display_name": "Python 3"
    },
    "language_info": {
      "name": "python"
    }
  },
  "cells": [
    {
      "cell_type": "code",
      "execution_count": null,
      "metadata": {
        "id": "mEHs18JefQzA"
      },
      "outputs": [],
      "source": [
        "#Binary Search\n",
        "def binarySearch(array, x, low, high):\n",
        "    while low <= high:\n",
        "        mid = low + (high - low)//2\n",
        "        if array[mid] == x:\n",
        "            return mid\n",
        "        elif array[mid] < x:\n",
        "            low = mid + 1\n",
        "        else:\n",
        "            high = mid - 1\n",
        "    return -1\n",
        "array = [3, 4, 5, 6, 7, 8, 9]\n",
        "x = 4\n",
        "result = binarySearch(array, x, 0, len(array)-1)\n",
        "if result != -1:\n",
        "    print(\"Element is present at index\" + str(result))\n",
        "else:\n",
        "    print(\"Not found\")"
      ]
    }
  ]
}